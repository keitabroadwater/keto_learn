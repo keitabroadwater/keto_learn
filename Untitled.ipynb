{
 "cells": [
  {
   "cell_type": "code",
   "execution_count": 1,
   "id": "a353fdc5-564c-40b8-8306-b8c30c75753b",
   "metadata": {},
   "outputs": [],
   "source": [
    " \n",
    "import sys\n",
    "sys.path.insert(0, '/Users/keitabroadwater/Projects/keto_learn/object_management/')\n",
    "import file_object_management as fom\n",
    "from file_object_management import Datlet"
   ]
  },
  {
   "cell_type": "code",
   "execution_count": 2,
   "id": "0404774e-e36b-4ae1-ba1f-9acaed8f7ced",
   "metadata": {},
   "outputs": [],
   "source": [
    "# data\n",
    "\n",
    "flight_file = '/Users/keitabroadwater/Data/MathStatsResamplingR/Edition3/Data/Data/FlightDelays.csv'"
   ]
  },
  {
   "cell_type": "code",
   "execution_count": 4,
   "id": "0bd36444-ff72-4118-a3a3-82736619381a",
   "metadata": {},
   "outputs": [
    {
     "name": "stdout",
     "output_type": "stream",
     "text": [
      "converting to pandas dataframe\n",
      "converting to numpy array\n"
     ]
    }
   ],
   "source": [
    "flight_datlet = Datlet(flight_file, 'csv')"
   ]
  },
  {
   "cell_type": "code",
   "execution_count": 5,
   "id": "818dafb1-a333-4e3e-ab8a-2898844744a1",
   "metadata": {},
   "outputs": [
    {
     "data": {
      "text/html": [
       "<div>\n",
       "<style scoped>\n",
       "    .dataframe tbody tr th:only-of-type {\n",
       "        vertical-align: middle;\n",
       "    }\n",
       "\n",
       "    .dataframe tbody tr th {\n",
       "        vertical-align: top;\n",
       "    }\n",
       "\n",
       "    .dataframe thead th {\n",
       "        text-align: right;\n",
       "    }\n",
       "</style>\n",
       "<table border=\"1\" class=\"dataframe\">\n",
       "  <thead>\n",
       "    <tr style=\"text-align: right;\">\n",
       "      <th></th>\n",
       "      <th>ID</th>\n",
       "      <th>Carrier</th>\n",
       "      <th>FlightNo</th>\n",
       "      <th>Destination</th>\n",
       "      <th>DepartTime</th>\n",
       "      <th>Day</th>\n",
       "      <th>Month</th>\n",
       "      <th>FlightLength</th>\n",
       "      <th>Delay</th>\n",
       "      <th>Delayed30</th>\n",
       "    </tr>\n",
       "  </thead>\n",
       "  <tbody>\n",
       "    <tr>\n",
       "      <th>0</th>\n",
       "      <td>1</td>\n",
       "      <td>UA</td>\n",
       "      <td>403</td>\n",
       "      <td>DEN</td>\n",
       "      <td>4-8am</td>\n",
       "      <td>Fri</td>\n",
       "      <td>May</td>\n",
       "      <td>281</td>\n",
       "      <td>-1</td>\n",
       "      <td>No</td>\n",
       "    </tr>\n",
       "    <tr>\n",
       "      <th>1</th>\n",
       "      <td>2</td>\n",
       "      <td>UA</td>\n",
       "      <td>405</td>\n",
       "      <td>DEN</td>\n",
       "      <td>8-Noon</td>\n",
       "      <td>Fri</td>\n",
       "      <td>May</td>\n",
       "      <td>277</td>\n",
       "      <td>102</td>\n",
       "      <td>Yes</td>\n",
       "    </tr>\n",
       "    <tr>\n",
       "      <th>2</th>\n",
       "      <td>3</td>\n",
       "      <td>UA</td>\n",
       "      <td>409</td>\n",
       "      <td>DEN</td>\n",
       "      <td>4-8pm</td>\n",
       "      <td>Fri</td>\n",
       "      <td>May</td>\n",
       "      <td>279</td>\n",
       "      <td>4</td>\n",
       "      <td>No</td>\n",
       "    </tr>\n",
       "    <tr>\n",
       "      <th>3</th>\n",
       "      <td>4</td>\n",
       "      <td>UA</td>\n",
       "      <td>511</td>\n",
       "      <td>ORD</td>\n",
       "      <td>8-Noon</td>\n",
       "      <td>Fri</td>\n",
       "      <td>May</td>\n",
       "      <td>158</td>\n",
       "      <td>-2</td>\n",
       "      <td>No</td>\n",
       "    </tr>\n",
       "    <tr>\n",
       "      <th>4</th>\n",
       "      <td>5</td>\n",
       "      <td>UA</td>\n",
       "      <td>667</td>\n",
       "      <td>ORD</td>\n",
       "      <td>4-8am</td>\n",
       "      <td>Fri</td>\n",
       "      <td>May</td>\n",
       "      <td>143</td>\n",
       "      <td>-3</td>\n",
       "      <td>No</td>\n",
       "    </tr>\n",
       "  </tbody>\n",
       "</table>\n",
       "</div>"
      ],
      "text/plain": [
       "   ID Carrier  FlightNo Destination DepartTime  Day Month  FlightLength  \\\n",
       "0   1      UA       403         DEN      4-8am  Fri   May           281   \n",
       "1   2      UA       405         DEN     8-Noon  Fri   May           277   \n",
       "2   3      UA       409         DEN      4-8pm  Fri   May           279   \n",
       "3   4      UA       511         ORD     8-Noon  Fri   May           158   \n",
       "4   5      UA       667         ORD      4-8am  Fri   May           143   \n",
       "\n",
       "   Delay Delayed30  \n",
       "0     -1        No  \n",
       "1    102       Yes  \n",
       "2      4        No  \n",
       "3     -2        No  \n",
       "4     -3        No  "
      ]
     },
     "execution_count": 5,
     "metadata": {},
     "output_type": "execute_result"
    }
   ],
   "source": [
    "flight_datlet.pdataframe.head()"
   ]
  },
  {
   "cell_type": "code",
   "execution_count": 7,
   "id": "8af039c2-9398-4aa6-bf55-d3cfb70d08a9",
   "metadata": {},
   "outputs": [
    {
     "data": {
      "text/plain": [
       "array([[1, 'UA', 403, 'DEN', '4-8am', 'Fri', 'May', 281, -1, 'No'],\n",
       "       [2, 'UA', 405, 'DEN', '8-Noon', 'Fri', 'May', 277, 102, 'Yes'],\n",
       "       [3, 'UA', 409, 'DEN', '4-8pm', 'Fri', 'May', 279, 4, 'No']],\n",
       "      dtype=object)"
      ]
     },
     "execution_count": 7,
     "metadata": {},
     "output_type": "execute_result"
    }
   ],
   "source": [
    "flight_datlet.nparray[:3]"
   ]
  },
  {
   "cell_type": "code",
   "execution_count": null,
   "id": "2a14e736-f332-4aca-911c-6f35027f06bb",
   "metadata": {},
   "outputs": [],
   "source": []
  }
 ],
 "metadata": {
  "kernelspec": {
   "display_name": "Python 3 (ipykernel)",
   "language": "python",
   "name": "python3"
  },
  "language_info": {
   "codemirror_mode": {
    "name": "ipython",
    "version": 3
   },
   "file_extension": ".py",
   "mimetype": "text/x-python",
   "name": "python",
   "nbconvert_exporter": "python",
   "pygments_lexer": "ipython3",
   "version": "3.10.9"
  }
 },
 "nbformat": 4,
 "nbformat_minor": 5
}
