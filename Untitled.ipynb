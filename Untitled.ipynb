{
 "cells": [
  {
   "cell_type": "code",
   "execution_count": 1,
   "id": "a353fdc5-564c-40b8-8306-b8c30c75753b",
   "metadata": {},
   "outputs": [],
   "source": [
    "import numpy as np\n",
    "import sys\n",
    "sys.path.insert(0, '/Users/keitabroadwater/Projects/keto_learn/object_management/')\n",
    "import file_object_management as fom\n",
    "from file_object_management import Datlet"
   ]
  },
  {
   "cell_type": "code",
   "execution_count": 2,
   "id": "0404774e-e36b-4ae1-ba1f-9acaed8f7ced",
   "metadata": {},
   "outputs": [],
   "source": [
    "# data\n",
    "\n",
    "flight_file = '/Users/keitabroadwater/Data/MathStatsResamplingR/Edition3/Data/Data/FlightDelays.csv'"
   ]
  },
  {
   "cell_type": "code",
   "execution_count": 4,
   "id": "0bd36444-ff72-4118-a3a3-82736619381a",
   "metadata": {},
   "outputs": [
    {
     "name": "stdout",
     "output_type": "stream",
     "text": [
      "converting to pandas dataframe\n",
      "converting to numpy array\n"
     ]
    }
   ],
   "source": [
    "flight_datlet = Datlet(flight_file, 'csv', True, 'flights')"
   ]
  },
  {
   "cell_type": "code",
   "execution_count": 5,
   "id": "818dafb1-a333-4e3e-ab8a-2898844744a1",
   "metadata": {},
   "outputs": [
    {
     "data": {
      "text/html": [
       "<div>\n",
       "<style scoped>\n",
       "    .dataframe tbody tr th:only-of-type {\n",
       "        vertical-align: middle;\n",
       "    }\n",
       "\n",
       "    .dataframe tbody tr th {\n",
       "        vertical-align: top;\n",
       "    }\n",
       "\n",
       "    .dataframe thead th {\n",
       "        text-align: right;\n",
       "    }\n",
       "</style>\n",
       "<table border=\"1\" class=\"dataframe\">\n",
       "  <thead>\n",
       "    <tr style=\"text-align: right;\">\n",
       "      <th></th>\n",
       "      <th>ID</th>\n",
       "      <th>Carrier</th>\n",
       "      <th>FlightNo</th>\n",
       "      <th>Destination</th>\n",
       "      <th>DepartTime</th>\n",
       "      <th>Day</th>\n",
       "      <th>Month</th>\n",
       "      <th>FlightLength</th>\n",
       "      <th>Delay</th>\n",
       "      <th>Delayed30</th>\n",
       "    </tr>\n",
       "  </thead>\n",
       "  <tbody>\n",
       "    <tr>\n",
       "      <th>0</th>\n",
       "      <td>1</td>\n",
       "      <td>UA</td>\n",
       "      <td>403</td>\n",
       "      <td>DEN</td>\n",
       "      <td>4-8am</td>\n",
       "      <td>Fri</td>\n",
       "      <td>May</td>\n",
       "      <td>281</td>\n",
       "      <td>-1</td>\n",
       "      <td>No</td>\n",
       "    </tr>\n",
       "    <tr>\n",
       "      <th>1</th>\n",
       "      <td>2</td>\n",
       "      <td>UA</td>\n",
       "      <td>405</td>\n",
       "      <td>DEN</td>\n",
       "      <td>8-Noon</td>\n",
       "      <td>Fri</td>\n",
       "      <td>May</td>\n",
       "      <td>277</td>\n",
       "      <td>102</td>\n",
       "      <td>Yes</td>\n",
       "    </tr>\n",
       "    <tr>\n",
       "      <th>2</th>\n",
       "      <td>3</td>\n",
       "      <td>UA</td>\n",
       "      <td>409</td>\n",
       "      <td>DEN</td>\n",
       "      <td>4-8pm</td>\n",
       "      <td>Fri</td>\n",
       "      <td>May</td>\n",
       "      <td>279</td>\n",
       "      <td>4</td>\n",
       "      <td>No</td>\n",
       "    </tr>\n",
       "    <tr>\n",
       "      <th>3</th>\n",
       "      <td>4</td>\n",
       "      <td>UA</td>\n",
       "      <td>511</td>\n",
       "      <td>ORD</td>\n",
       "      <td>8-Noon</td>\n",
       "      <td>Fri</td>\n",
       "      <td>May</td>\n",
       "      <td>158</td>\n",
       "      <td>-2</td>\n",
       "      <td>No</td>\n",
       "    </tr>\n",
       "    <tr>\n",
       "      <th>4</th>\n",
       "      <td>5</td>\n",
       "      <td>UA</td>\n",
       "      <td>667</td>\n",
       "      <td>ORD</td>\n",
       "      <td>4-8am</td>\n",
       "      <td>Fri</td>\n",
       "      <td>May</td>\n",
       "      <td>143</td>\n",
       "      <td>-3</td>\n",
       "      <td>No</td>\n",
       "    </tr>\n",
       "  </tbody>\n",
       "</table>\n",
       "</div>"
      ],
      "text/plain": [
       "   ID Carrier  FlightNo Destination DepartTime  Day Month  FlightLength  \\\n",
       "0   1      UA       403         DEN      4-8am  Fri   May           281   \n",
       "1   2      UA       405         DEN     8-Noon  Fri   May           277   \n",
       "2   3      UA       409         DEN      4-8pm  Fri   May           279   \n",
       "3   4      UA       511         ORD     8-Noon  Fri   May           158   \n",
       "4   5      UA       667         ORD      4-8am  Fri   May           143   \n",
       "\n",
       "   Delay Delayed30  \n",
       "0     -1        No  \n",
       "1    102       Yes  \n",
       "2      4        No  \n",
       "3     -2        No  \n",
       "4     -3        No  "
      ]
     },
     "execution_count": 5,
     "metadata": {},
     "output_type": "execute_result"
    }
   ],
   "source": [
    "flight_datlet.pdataframe.head()"
   ]
  },
  {
   "cell_type": "code",
   "execution_count": 6,
   "id": "8af039c2-9398-4aa6-bf55-d3cfb70d08a9",
   "metadata": {},
   "outputs": [
    {
     "data": {
      "text/plain": [
       "array([[1, 'UA', 403, 'DEN', '4-8am', 'Fri', 'May', 281, -1, 'No'],\n",
       "       [2, 'UA', 405, 'DEN', '8-Noon', 'Fri', 'May', 277, 102, 'Yes'],\n",
       "       [3, 'UA', 409, 'DEN', '4-8pm', 'Fri', 'May', 279, 4, 'No']],\n",
       "      dtype=object)"
      ]
     },
     "execution_count": 6,
     "metadata": {},
     "output_type": "execute_result"
    }
   ],
   "source": [
    "flight_datlet.nparray[:3]"
   ]
  },
  {
   "cell_type": "code",
   "execution_count": 7,
   "id": "2a14e736-f332-4aca-911c-6f35027f06bb",
   "metadata": {},
   "outputs": [
    {
     "data": {
      "text/plain": [
       "'/Users/keitabroadwater/Data/MathStatsResamplingR/Edition3/Data/Data/FlightDelays.csv'"
      ]
     },
     "execution_count": 7,
     "metadata": {},
     "output_type": "execute_result"
    }
   ],
   "source": [
    "flight_datlet.file_name"
   ]
  },
  {
   "cell_type": "code",
   "execution_count": 8,
   "id": "6cc4ec60-c82f-4c22-830c-0ea86a9b81f6",
   "metadata": {},
   "outputs": [
    {
     "data": {
      "text/plain": [
       "Index(['ID', 'Carrier', 'FlightNo', 'Destination', 'DepartTime', 'Day',\n",
       "       'Month', 'FlightLength', 'Delay', 'Delayed30'],\n",
       "      dtype='object')"
      ]
     },
     "execution_count": 8,
     "metadata": {},
     "output_type": "execute_result"
    }
   ],
   "source": [
    "flight_datlet.pdataframe.columns\n"
   ]
  },
  {
   "cell_type": "code",
   "execution_count": 10,
   "id": "3ad3171a-4274-42fc-8853-cfddf8026dd0",
   "metadata": {},
   "outputs": [
    {
     "data": {
      "text/plain": [
       "'flights'"
      ]
     },
     "execution_count": 10,
     "metadata": {},
     "output_type": "execute_result"
    }
   ],
   "source": [
    "flight_datlet.nickname"
   ]
  },
  {
   "cell_type": "code",
   "execution_count": 11,
   "id": "ef8d8df1-912f-47fc-9e91-d091f7cc4a07",
   "metadata": {},
   "outputs": [
    {
     "name": "stdout",
     "output_type": "stream",
     "text": [
      "flights(Datlet)\n"
     ]
    }
   ],
   "source": [
    "print(flight_datlet)"
   ]
  },
  {
   "cell_type": "code",
   "execution_count": 16,
   "id": "0bc0ffac-179f-4071-8ac9-c1d3bb061b9b",
   "metadata": {},
   "outputs": [
    {
     "data": {
      "text/plain": [
       "dtype('int64')"
      ]
     },
     "execution_count": 16,
     "metadata": {},
     "output_type": "execute_result"
    }
   ],
   "source": [
    "flight_datlet.pdataframe.dtypes.ID"
   ]
  },
  {
   "cell_type": "code",
   "execution_count": 19,
   "id": "164a855a-84f7-49d8-81d7-f9a87f0830a1",
   "metadata": {},
   "outputs": [
    {
     "name": "stdout",
     "output_type": "stream",
     "text": [
      "ID int64\n",
      "Carrier object\n",
      "FlightNo int64\n",
      "Destination object\n",
      "DepartTime object\n",
      "Day object\n",
      "Month object\n",
      "FlightLength int64\n",
      "Delay int64\n",
      "Delayed30 object\n"
     ]
    }
   ],
   "source": [
    "dtypes_dict = {}\n",
    "for i in flight_datlet.pdataframe.columns:\n",
    "    print(i, flight_datlet.pdataframe.dtypes[i])\n",
    "    dtypes_dict[i] = flight_datlet.pdataframe.dtypes[i]"
   ]
  },
  {
   "cell_type": "code",
   "execution_count": 20,
   "id": "92c96782-ebb3-40a6-bf4a-e6d3c8c09895",
   "metadata": {},
   "outputs": [
    {
     "data": {
      "text/plain": [
       "{'ID': dtype('int64'),\n",
       " 'Carrier': dtype('O'),\n",
       " 'FlightNo': dtype('int64'),\n",
       " 'Destination': dtype('O'),\n",
       " 'DepartTime': dtype('O'),\n",
       " 'Day': dtype('O'),\n",
       " 'Month': dtype('O'),\n",
       " 'FlightLength': dtype('int64'),\n",
       " 'Delay': dtype('int64'),\n",
       " 'Delayed30': dtype('O')}"
      ]
     },
     "execution_count": 20,
     "metadata": {},
     "output_type": "execute_result"
    }
   ],
   "source": [
    "dtypes_dict"
   ]
  },
  {
   "cell_type": "code",
   "execution_count": null,
   "id": "5b0b59f6-8540-424c-a1f3-88a589cef985",
   "metadata": {},
   "outputs": [],
   "source": []
  },
  {
   "cell_type": "code",
   "execution_count": null,
   "id": "2f622f09-5d20-4fd9-a43e-94afc29c4b32",
   "metadata": {},
   "outputs": [],
   "source": [
    "# Use Matplotlib Artist layer to plot a histogram"
   ]
  },
  {
   "cell_type": "code",
   "execution_count": null,
   "id": "ec0421d5-4ca4-41d5-9e99-0bc289ed25b7",
   "metadata": {},
   "outputs": [],
   "source": [
    "# Step One: We import FigureCanvas from Back-end layer.\n",
    "from matplotlib.backends.backend_agg import FigureCanvasAgg as FigureCanvas"
   ]
  },
  {
   "cell_type": "code",
   "execution_count": null,
   "id": "3e736ad9-64bb-42b4-a095-d502bbe244f5",
   "metadata": {},
   "outputs": [],
   "source": [
    "# Step two: We import Figure Artist\n",
    "from matplotlib.figure import Figure\n",
    "\n",
    "\n",
    "# Step 3: We create a Figure object using the constructor\n",
    "fig = Figure()"
   ]
  },
  {
   "cell_type": "code",
   "execution_count": null,
   "id": "a3e19c04-ec86-41b3-b2ec-fe58b702f22a",
   "metadata": {},
   "outputs": [],
   "source": [
    "np.random.seed(6)\n",
    "x = np.random.randn(20000)\n",
    "# Let's see the first 10 numbers\n",
    "x[:10]"
   ]
  },
  {
   "cell_type": "code",
   "execution_count": null,
   "id": "253638d0-b575-4366-b7e4-716455dfb4d6",
   "metadata": {},
   "outputs": [],
   "source": [
    "# Next we create an Axes Artist object.\n",
    "ax = fig.add_subplot(111)"
   ]
  },
  {
   "cell_type": "code",
   "execution_count": null,
   "id": "e6ddcd33-5d10-4956-9ade-693f2c1cc1af",
   "metadata": {},
   "outputs": [],
   "source": [
    "# Next we call the Axes method hist() function.\n",
    "ax.hist(x, 100)"
   ]
  },
  {
   "cell_type": "code",
   "execution_count": null,
   "id": "c475f1f5-cbfb-4683-b952-f9c36f9c5479",
   "metadata": {},
   "outputs": [],
   "source": [
    "# Finally we assign a title to the plot.\n",
    "ax.set_title('Artist Layer Histogram')"
   ]
  },
  {
   "cell_type": "code",
   "execution_count": null,
   "id": "a48cefae-207f-42a2-827b-8d5ff91a85fb",
   "metadata": {},
   "outputs": [],
   "source": [
    "# And we save it, in this case as a PNG file. filefig.savefig('Matplotlib_histogram.png')"
   ]
  },
  {
   "cell_type": "code",
   "execution_count": null,
   "id": "a885900e-8560-4ab9-abb8-22186762520b",
   "metadata": {},
   "outputs": [],
   "source": [
    "fig."
   ]
  },
  {
   "cell_type": "code",
   "execution_count": null,
   "id": "dfeaac85-f034-4ea7-a7d1-28a6fe4725c6",
   "metadata": {},
   "outputs": [],
   "source": []
  }
 ],
 "metadata": {
  "kernelspec": {
   "display_name": "Python 3 (ipykernel)",
   "language": "python",
   "name": "python3"
  },
  "language_info": {
   "codemirror_mode": {
    "name": "ipython",
    "version": 3
   },
   "file_extension": ".py",
   "mimetype": "text/x-python",
   "name": "python",
   "nbconvert_exporter": "python",
   "pygments_lexer": "ipython3",
   "version": "3.10.9"
  }
 },
 "nbformat": 4,
 "nbformat_minor": 5
}
